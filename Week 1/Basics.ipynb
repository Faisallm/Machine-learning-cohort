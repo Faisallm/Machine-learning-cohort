{
 "cells": [
  {
   "cell_type": "code",
   "execution_count": 1,
   "metadata": {},
   "outputs": [
    {
     "name": "stdout",
     "output_type": "stream",
     "text": [
      "Hello World\n"
     ]
    }
   ],
   "source": [
    "print(\"Hello World\")"
   ]
  },
  {
   "cell_type": "code",
   "execution_count": 2,
   "metadata": {},
   "outputs": [
    {
     "name": "stdout",
     "output_type": "stream",
     "text": [
      "Hello World\n"
     ]
    }
   ],
   "source": [
    "# comments in python are made with the hash tag\n",
    "print(\"Hello World\") # note print is a function\n",
    "\n",
    "# comments explain\n",
    "# 1, Assumptions\n",
    "# 2, important decisions\n",
    "# 3, important details\n",
    "# 4, problems you are trying to solve\n",
    "# 5, problems you are trying to overcome in your program\n"
   ]
  },
  {
   "cell_type": "code",
   "execution_count": 4,
   "metadata": {},
   "outputs": [
    {
     "name": "stdout",
     "output_type": "stream",
     "text": [
      "<class 'int'>\n",
      "<class 'float'>\n",
      "<class 'float'>\n"
     ]
    }
   ],
   "source": [
    "# numbers there are two types float and integers\n",
    "print(type(5))\n",
    "print(type(5.00))\n",
    "print(type(2E-4))\n"
   ]
  },
  {
   "cell_type": "code",
   "execution_count": 7,
   "metadata": {},
   "outputs": [
    {
     "name": "stdout",
     "output_type": "stream",
     "text": [
      "hello world\n",
      "Hello World\n",
      "\n",
      "        The quick brown \n",
      "        fox jumps over \n",
      "        the laxy dog\n",
      "    \n"
     ]
    }
   ],
   "source": [
    "# A string is a sequence of characters, Strings are basically a bunch of words\n",
    "\n",
    "# single qoute\n",
    "print('hello world')\n",
    "\n",
    "# double quote\n",
    "print(\"Hello World\")\n",
    "\n",
    "# triple quote\n",
    "# used when you want multiple-lines of strings\n",
    "passage = \"\"\"\n",
    "        The quick brown \n",
    "        fox jumps over \n",
    "        the laxy dog\n",
    "    \"\"\"\n",
    "print(passage)"
   ]
  },
  {
   "cell_type": "code",
   "execution_count": 17,
   "metadata": {},
   "outputs": [
    {
     "name": "stdout",
     "output_type": "stream",
     "text": [
      "Buba Pupa was 35 years old when he wrote this book\n",
      "Buba Pupa was 35 years old when he wrote this book\n",
      "Buba Pupa was 35 years old when he wrote this book\n"
     ]
    }
   ],
   "source": [
    "# The format method\n",
    "# sometimes we want to construct strings from other information\n",
    "\n",
    "\n",
    "age = 35  \n",
    "name = 'Buba Pupa'\n",
    "\n",
    "# method 1 \n",
    "print(\"{0} was {1} years old when he wrote this book\".format(name, age))\n",
    "\n",
    "# method 2\n",
    "print(\"{} was {} years old when he wrote this book\".format(name, age))\n",
    "\n",
    "# using the format method you can avoid using + for concatenations\n",
    "sentence = name + \" was \" + str(age) + \" years old when he wrote this book\"\n",
    "print(sentence)"
   ]
  },
  {
   "cell_type": "code",
   "execution_count": 18,
   "metadata": {},
   "outputs": [
    {
     "name": "stdout",
     "output_type": "stream",
     "text": [
      "Buba Pupa was 35 years old when he wrote this book\n"
     ]
    }
   ],
   "source": [
    "# the f-strings method of formatting\n",
    "print(f'{name} was {age} years old when he wrote this book')"
   ]
  },
  {
   "cell_type": "code",
   "execution_count": 22,
   "metadata": {},
   "outputs": [
    {
     "name": "stdout",
     "output_type": "stream",
     "text": [
      "0.3333333333333333\n",
      "0.333\n",
      "0.333\n"
     ]
    }
   ],
   "source": [
    "# decimal points\n",
    "print(1/3)\n",
    "# limiting answer to 3 decimal points\n",
    "print('{0:.3f}'.format(1/3))\n",
    "\n",
    "print(round(1/3, 3))"
   ]
  },
  {
   "cell_type": "code",
   "execution_count": 30,
   "metadata": {},
   "outputs": [
    {
     "name": "stdout",
     "output_type": "stream",
     "text": [
      "ab\n"
     ]
    }
   ],
   "source": [
    "# the print statement always has an invisible newline character\n",
    "print('a', end='')\n",
    "print('b')"
   ]
  },
  {
   "cell_type": "code",
   "execution_count": 35,
   "metadata": {},
   "outputs": [
    {
     "ename": "SyntaxError",
     "evalue": "invalid syntax (<ipython-input-35-a26db5e78aa9>, line 3)",
     "output_type": "error",
     "traceback": [
      "\u001b[1;36m  File \u001b[1;32m\"<ipython-input-35-a26db5e78aa9>\"\u001b[1;36m, line \u001b[1;32m3\u001b[0m\n\u001b[1;33m    print('What's your name?')\u001b[0m\n\u001b[1;37m                ^\u001b[0m\n\u001b[1;31mSyntaxError\u001b[0m\u001b[1;31m:\u001b[0m invalid syntax\n"
     ]
    }
   ],
   "source": [
    "# Escape sequences\n",
    "\n",
    "print('What's your name?')"
   ]
  },
  {
   "cell_type": "code",
   "execution_count": 36,
   "metadata": {},
   "outputs": [
    {
     "name": "stdout",
     "output_type": "stream",
     "text": [
      "What's your name?\n"
     ]
    }
   ],
   "source": [
    "print('What\\'s your name?')"
   ]
  },
  {
   "cell_type": "code",
   "execution_count": 37,
   "metadata": {},
   "outputs": [
    {
     "name": "stdout",
     "output_type": "stream",
     "text": [
      "This is the first line\n",
      "This is the second line.\n"
     ]
    }
   ],
   "source": [
    "print('This is the first line\\nThis is the second line.')"
   ]
  },
  {
   "cell_type": "code",
   "execution_count": 43,
   "metadata": {},
   "outputs": [
    {
     "name": "stdout",
     "output_type": "stream",
     "text": [
      "This is the first line This is the second line\n"
     ]
    }
   ],
   "source": [
    "sentence = \"This is the first line\\\n",
    " This is the second line\"\n",
    "print(sentence)"
   ]
  },
  {
   "cell_type": "code",
   "execution_count": 45,
   "metadata": {},
   "outputs": [
    {
     "name": "stdout",
     "output_type": "stream",
     "text": [
      "This is the first line\\nThis is the second line.\n"
     ]
    }
   ],
   "source": [
    "# rawstrings\n",
    "print(r'This is the first line\\nThis is the second line.')"
   ]
  },
  {
   "cell_type": "code",
   "execution_count": 49,
   "metadata": {},
   "outputs": [],
   "source": [
    "# A variable simply points to a part of our computer memory \n",
    "# where you can store and manipulate information.\n",
    "\n",
    "\n",
    "#Rules\n",
    "# 1, Variables start with only a letter or on underscore(_)\n",
    "\n",
    "# Examples\n",
    "# 1, Valid Variables - i, name_2_3\n",
    "# 2, Invalid variables - 2things, this is spaced out, my-name or >a1b2_c3\n"
   ]
  },
  {
   "cell_type": "code",
   "execution_count": 50,
   "metadata": {},
   "outputs": [
    {
     "name": "stdout",
     "output_type": "stream",
     "text": [
      "5\n"
     ]
    }
   ],
   "source": [
    "# using variables and literal constants\n",
    "i = 5  \n",
    "print(i)"
   ]
  },
  {
   "cell_type": "code",
   "execution_count": 51,
   "metadata": {},
   "outputs": [
    {
     "name": "stdout",
     "output_type": "stream",
     "text": [
      "6\n"
     ]
    }
   ],
   "source": [
    "i = i + 1\n",
    "print(i)"
   ]
  },
  {
   "cell_type": "code",
   "execution_count": 52,
   "metadata": {},
   "outputs": [
    {
     "name": "stdout",
     "output_type": "stream",
     "text": [
      "7\n"
     ]
    }
   ],
   "source": [
    "# shortcut\n",
    "i += 1\n",
    "print(i)"
   ]
  },
  {
   "cell_type": "code",
   "execution_count": 53,
   "metadata": {},
   "outputs": [
    {
     "name": "stdout",
     "output_type": "stream",
     "text": [
      "5\n"
     ]
    }
   ],
   "source": [
    "# Logical and physical lines\n",
    "i = 5\n",
    "print(i)"
   ]
  },
  {
   "cell_type": "code",
   "execution_count": 54,
   "metadata": {},
   "outputs": [
    {
     "name": "stdout",
     "output_type": "stream",
     "text": [
      "5\n"
     ]
    }
   ],
   "source": [
    "# same as\n",
    "i = 5; print(i)"
   ]
  },
  {
   "cell_type": "code",
   "execution_count": 56,
   "metadata": {},
   "outputs": [],
   "source": [
    "# Advice to coder\n",
    "# ! use one logical line per physical lines (keep things simple)\n",
    "# ! explicit is better than implicit\n",
    "# you won't see semi-colons in python open source code"
   ]
  },
  {
   "cell_type": "code",
   "execution_count": 58,
   "metadata": {},
   "outputs": [
    {
     "name": "stdout",
     "output_type": "stream",
     "text": [
      "5\n"
     ]
    }
   ],
   "source": [
    "# Implicit line joining\n",
    "i = \\\n",
    "5\n",
    "print(i)\n",
    "\n",
    "# use implicit line joining only when neccessary \n",
    "# eg to prevent long lines of code"
   ]
  },
  {
   "cell_type": "code",
   "execution_count": 62,
   "metadata": {},
   "outputs": [
    {
     "ename": "IndentationError",
     "evalue": "unexpected indent (<ipython-input-62-6340ef3f9214>, line 5)",
     "output_type": "error",
     "traceback": [
      "\u001b[1;36m  File \u001b[1;32m\"<ipython-input-62-6340ef3f9214>\"\u001b[1;36m, line \u001b[1;32m5\u001b[0m\n\u001b[1;33m    print('Value is', i)\u001b[0m\n\u001b[1;37m    ^\u001b[0m\n\u001b[1;31mIndentationError\u001b[0m\u001b[1;31m:\u001b[0m unexpected indent\n"
     ]
    }
   ],
   "source": [
    "# indentation\n",
    "# Group of code that run together should have the same indentation\n",
    "i = 5;\n",
    " print('Value is', i)"
   ]
  },
  {
   "cell_type": "code",
   "execution_count": 63,
   "metadata": {},
   "outputs": [
    {
     "name": "stdout",
     "output_type": "stream",
     "text": [
      "Value is 5\n"
     ]
    }
   ],
   "source": [
    "print('Value is', i)"
   ]
  },
  {
   "cell_type": "code",
   "execution_count": 64,
   "metadata": {},
   "outputs": [],
   "source": [
    "# Next Stop: Operators and Operands"
   ]
  }
 ],
 "metadata": {
  "kernelspec": {
   "display_name": "Python 3",
   "language": "python",
   "name": "python3"
  },
  "language_info": {
   "codemirror_mode": {
    "name": "ipython",
    "version": 3
   },
   "file_extension": ".py",
   "mimetype": "text/x-python",
   "name": "python",
   "nbconvert_exporter": "python",
   "pygments_lexer": "ipython3",
   "version": "3.7.6"
  }
 },
 "nbformat": 4,
 "nbformat_minor": 4
}
