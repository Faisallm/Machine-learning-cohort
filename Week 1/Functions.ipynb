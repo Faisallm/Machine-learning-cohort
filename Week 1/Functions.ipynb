{
 "cells": [
  {
   "cell_type": "code",
   "execution_count": 1,
   "metadata": {},
   "outputs": [],
   "source": [
    "# Functions are reusable pieces of programs, They allow you to give a name to a block\n",
    "# of statements, allowing you to run that block using the specified name anywhere in\n",
    "# your program and any number of times. This is known as calling the function.\n",
    "# We have already used many built-in functions such as len(), print() and range(). "
   ]
  },
  {
   "cell_type": "code",
   "execution_count": 3,
   "metadata": {},
   "outputs": [],
   "source": [
    "# functions are defined using the def keyword.\n",
    "def say_hello():\n",
    "    print(\"Hello World\")"
   ]
  },
  {
   "cell_type": "code",
   "execution_count": 4,
   "metadata": {},
   "outputs": [
    {
     "name": "stdout",
     "output_type": "stream",
     "text": [
      "Hello World\n",
      "Hello World\n"
     ]
    }
   ],
   "source": [
    "say_hello()\n",
    "say_hello()"
   ]
  },
  {
   "cell_type": "code",
   "execution_count": 5,
   "metadata": {},
   "outputs": [],
   "source": [
    "# Function parameters\n",
    "\n",
    "# A function can take parameters which are values you supply to \n",
    "# the function so that the function can do\n",
    "# something utilizing these values."
   ]
  },
  {
   "cell_type": "code",
   "execution_count": 8,
   "metadata": {},
   "outputs": [],
   "source": [
    "def print_max(a, b):\n",
    "    if a > b:\n",
    "        print(a, 'is maximum')\n",
    "    elif a == b:\n",
    "        print(a, 'is equal to', b)\n",
    "    else:\n",
    "        print(b, 'is maximum')"
   ]
  },
  {
   "cell_type": "code",
   "execution_count": 12,
   "metadata": {},
   "outputs": [
    {
     "name": "stdout",
     "output_type": "stream",
     "text": [
      "4 is equal to 4\n"
     ]
    }
   ],
   "source": [
    "print_max(4, 4)"
   ]
  },
  {
   "cell_type": "code",
   "execution_count": 13,
   "metadata": {},
   "outputs": [],
   "source": [
    "# local variables\n",
    "\n",
    "# When you declare variables inside a function they are in no way related\n",
    "# to other variables with the same name outside the function.\n",
    "# Variable names are local to the function. This is called the scope of the variable."
   ]
  },
  {
   "cell_type": "code",
   "execution_count": 17,
   "metadata": {},
   "outputs": [
    {
     "name": "stdout",
     "output_type": "stream",
     "text": [
      "x is 50\n",
      "Changed local x to 2\n",
      "X still remains 50\n"
     ]
    }
   ],
   "source": [
    "x = 50\n",
    "\n",
    "def func(x):\n",
    "    print(\"x is\", x)\n",
    "    x = 2\n",
    "    print('Changed local x to', x)\n",
    "    \n",
    "func(x)\n",
    "print(\"X still remains\", x)\n"
   ]
  },
  {
   "cell_type": "code",
   "execution_count": 19,
   "metadata": {},
   "outputs": [],
   "source": [
    "# The global statement\n",
    "\n",
    "# if you want to assign a value to a name defined at the top level of the program...\n",
    "# (i.e not inside any kind of scope such as functions or classes), then you have to tell\n",
    "# python that the name is not local, but it is global. Using the \"global\" statement."
   ]
  },
  {
   "cell_type": "code",
   "execution_count": 21,
   "metadata": {},
   "outputs": [
    {
     "name": "stdout",
     "output_type": "stream",
     "text": [
      "x is 50\n",
      "Changed global x to 2\n",
      "Value of x is now 2\n"
     ]
    }
   ],
   "source": [
    "x = 50\n",
    "\n",
    "\n",
    "def func():\n",
    "    global x\n",
    "    \n",
    "    print('x is', x)\n",
    "    x = 2\n",
    "    print(\"Changed global x to\", x)\n",
    "    \n",
    "func()\n",
    "print(\"Value of x is now\", x)"
   ]
  },
  {
   "cell_type": "code",
   "execution_count": 22,
   "metadata": {},
   "outputs": [],
   "source": [
    "# Default Argument values\n",
    "\n",
    "# For some functions, you may want to make some parameters optional ans use default values in case the user\n",
    "# does not want to provide values for them. This is done with the help of default argument values."
   ]
  },
  {
   "cell_type": "code",
   "execution_count": 31,
   "metadata": {},
   "outputs": [
    {
     "name": "stdout",
     "output_type": "stream",
     "text": [
      "Hello World "
     ]
    }
   ],
   "source": [
    "def repeat(message, times=1):\n",
    "    print(message * times, end=' ')\n",
    "    \n",
    "repeat(\"Hello World\")"
   ]
  },
  {
   "cell_type": "code",
   "execution_count": 33,
   "metadata": {},
   "outputs": [
    {
     "name": "stdout",
     "output_type": "stream",
     "text": [
      "Hello World Hello World Hello World  "
     ]
    }
   ],
   "source": [
    "repeat(\"Hello World \", 3)"
   ]
  },
  {
   "cell_type": "code",
   "execution_count": 38,
   "metadata": {},
   "outputs": [],
   "source": [
    "# KeyWord Arguments\n",
    "\n",
    "# if you have some functions with many parameters and you want to specify only some of\n",
    "# them, then you give values for such parameters by naming them - this is called \n",
    "# keyword arguments.\n",
    "\n",
    "# Advantages\n",
    "# 1, The functions does not need to worry about the order of the arguments\n",
    "# 2, We can give values to only those parameters to which we want, provided\n",
    "# ..that the other parameters have default argument values."
   ]
  },
  {
   "cell_type": "code",
   "execution_count": 40,
   "metadata": {},
   "outputs": [
    {
     "name": "stdout",
     "output_type": "stream",
     "text": [
      "a is 3 and b is 7 and c is 10\n",
      "a is 25 and b is 5 and c is 24\n",
      "a is -10 and b is 5 and c is 100\n"
     ]
    }
   ],
   "source": [
    "def func(a, b=5, c=10):\n",
    "    print('a is', a, 'and b is', b, 'and c is', c)\n",
    "    \n",
    "func(3, 7)\n",
    "func(25, c=24)\n",
    "func(c=100, a=-10)"
   ]
  },
  {
   "cell_type": "code",
   "execution_count": 41,
   "metadata": {},
   "outputs": [],
   "source": [
    "# VarArgs parameters\n",
    "\n",
    "# Sometimes you might want to define a function that can take any number of parameters i.e\n",
    "# Variable number of ARGuments, this can be achieved using the stars."
   ]
  },
  {
   "cell_type": "code",
   "execution_count": 44,
   "metadata": {},
   "outputs": [
    {
     "name": "stdout",
     "output_type": "stream",
     "text": [
      "a is 10\n",
      "single_item 1\n",
      "single_item 2\n",
      "single_item 3\n",
      "faisal 07039071981\n",
      "yahaya 07066697600\n"
     ]
    }
   ],
   "source": [
    "def total(a=5, *numbers, **phonebook):\n",
    "    print('a is', a)\n",
    "    \n",
    "    for single_item in numbers:\n",
    "        print('single_item', single_item)\n",
    "        \n",
    "    for first_part, second_part in phonebook.items():\n",
    "        print(first_part, second_part)\n",
    "        \n",
    "total(10, 1, 2, 3, faisal=\"07039071981\", yahaya=\"07066697600\")\n"
   ]
  },
  {
   "cell_type": "code",
   "execution_count": 45,
   "metadata": {},
   "outputs": [],
   "source": [
    "# Single star * refers to lists\n",
    "# double star ** refers to dictionaries"
   ]
  },
  {
   "cell_type": "code",
   "execution_count": 46,
   "metadata": {},
   "outputs": [],
   "source": [
    "# The return statement is used to return from a statement \n",
    "# i.e to break out of a function."
   ]
  },
  {
   "cell_type": "code",
   "execution_count": 47,
   "metadata": {},
   "outputs": [
    {
     "name": "stdout",
     "output_type": "stream",
     "text": [
      "3\n"
     ]
    }
   ],
   "source": [
    "def maximum(x, y):\n",
    "    if x > y:\n",
    "        return x\n",
    "    elif x == y:\n",
    "        return \"The numbers are equal\"\n",
    "    else: \n",
    "        return y\n",
    "    \n",
    "print(maximum(2, 3))"
   ]
  },
  {
   "cell_type": "code",
   "execution_count": 48,
   "metadata": {},
   "outputs": [],
   "source": [
    "# DocStrings\n",
    "# Python has a niffty feature called \"documentation strings\" usually referred to by its shorter name\n",
    "# DocStrings. DocStrings are an important tool that you should make use since it helps to document the program better \n",
    "# and makes it easier to understand."
   ]
  },
  {
   "cell_type": "code",
   "execution_count": 50,
   "metadata": {},
   "outputs": [
    {
     "name": "stdout",
     "output_type": "stream",
     "text": [
      "6 is maximum\n"
     ]
    }
   ],
   "source": [
    "def print_max(x, y):\n",
    "    \"\"\"\n",
    "        Print the maximum of two numbers.\n",
    "        The two numbers must be integers.\n",
    "    \"\"\"\n",
    "    # ensure x, y are int.\n",
    "    x = int(x)\n",
    "    y = int(y)\n",
    "    \n",
    "    if x > y:\n",
    "        print(x, 'is maximum')\n",
    "    else:\n",
    "        print(y, 'is maximum')\n",
    "        \n",
    "print_max(6, 5)\n",
    "    \n",
    "    "
   ]
  },
  {
   "cell_type": "code",
   "execution_count": 51,
   "metadata": {},
   "outputs": [
    {
     "name": "stdout",
     "output_type": "stream",
     "text": [
      "\n",
      "        Print the maximum of two numbers.\n",
      "        The two numbers must be integers.\n",
      "    \n"
     ]
    }
   ],
   "source": [
    "print(print_max.__doc__)"
   ]
  },
  {
   "cell_type": "code",
   "execution_count": 53,
   "metadata": {},
   "outputs": [
    {
     "name": "stdout",
     "output_type": "stream",
     "text": [
      "['DirEntry', 'F_OK', 'MutableMapping', 'O_APPEND', 'O_BINARY', 'O_CREAT', 'O_EXCL', 'O_NOINHERIT', 'O_RANDOM', 'O_RDONLY', 'O_RDWR', 'O_SEQUENTIAL', 'O_SHORT_LIVED', 'O_TEMPORARY', 'O_TEXT', 'O_TRUNC', 'O_WRONLY', 'P_DETACH', 'P_NOWAIT', 'P_NOWAITO', 'P_OVERLAY', 'P_WAIT', 'PathLike', 'R_OK', 'SEEK_CUR', 'SEEK_END', 'SEEK_SET', 'TMP_MAX', 'W_OK', 'X_OK', '_Environ', '__all__', '__builtins__', '__cached__', '__doc__', '__file__', '__loader__', '__name__', '__package__', '__spec__', '_execvpe', '_exists', '_exit', '_fspath', '_get_exports_list', '_putenv', '_unsetenv', '_wrap_close', 'abc', 'abort', 'access', 'altsep', 'chdir', 'chmod', 'close', 'closerange', 'cpu_count', 'curdir', 'defpath', 'device_encoding', 'devnull', 'dup', 'dup2', 'environ', 'error', 'execl', 'execle', 'execlp', 'execlpe', 'execv', 'execve', 'execvp', 'execvpe', 'extsep', 'fdopen', 'fsdecode', 'fsencode', 'fspath', 'fstat', 'fsync', 'ftruncate', 'get_exec_path', 'get_handle_inheritable', 'get_inheritable', 'get_terminal_size', 'getcwd', 'getcwdb', 'getenv', 'getlogin', 'getpid', 'getppid', 'isatty', 'kill', 'linesep', 'link', 'listdir', 'lseek', 'lstat', 'makedirs', 'mkdir', 'name', 'open', 'pardir', 'path', 'pathsep', 'pipe', 'popen', 'putenv', 'read', 'readlink', 'remove', 'removedirs', 'rename', 'renames', 'replace', 'rmdir', 'scandir', 'sep', 'set_handle_inheritable', 'set_inheritable', 'spawnl', 'spawnle', 'spawnv', 'spawnve', 'st', 'startfile', 'stat', 'stat_result', 'statvfs_result', 'strerror', 'supports_bytes_environ', 'supports_dir_fd', 'supports_effective_ids', 'supports_fd', 'supports_follow_symlinks', 'symlink', 'sys', 'system', 'terminal_size', 'times', 'times_result', 'truncate', 'umask', 'uname_result', 'unlink', 'urandom', 'utime', 'waitpid', 'walk', 'write']\n"
     ]
    }
   ],
   "source": [
    "# The dir function\n",
    "import os\n",
    "print(dir(os))"
   ]
  },
  {
   "cell_type": "code",
   "execution_count": 57,
   "metadata": {},
   "outputs": [
    {
     "data": {
      "text/plain": [
       "['.ipynb_checkpoints',\n",
       " '1-s2.0-S1877050917314345-main.pdf',\n",
       " '716598.pdf',\n",
       " 'AI Saturday Students Number.docx',\n",
       " 'assets',\n",
       " 'Avengers.Endgame.2019.720p.HDTC.x264.DEVIVED-1.mkv',\n",
       " 'Basics.ipynb',\n",
       " 'bobbo',\n",
       " 'boondocks',\n",
       " 'Catch Me If You Can (2002)',\n",
       " 'ControlFlow.ipynb',\n",
       " 'Counting Objects Using YOLOv4 Object Detection  Custom YOLOv4 Functions with TensorFlow.mp4',\n",
       " 'CPY_SAVES',\n",
       " 'Create a Landing Page with full Navigation  Pure HTML & CSS. [1].mp4',\n",
       " 'Custom Office Templates',\n",
       " 'Dear Startup Kano.docx',\n",
       " 'desktop.ini',\n",
       " 'Faisal_Muhammad_Resume.pdf',\n",
       " 'Faisal_Muhammad_Resume.TXT',\n",
       " 'flutter',\n",
       " 'Functions.ipynb',\n",
       " 'HOD CHEM_PET.docx',\n",
       " 'How to Have a Great Relationship With Your Mentor _ The Muse.html',\n",
       " 'How to Have a Great Relationship With Your Mentor _ The Muse_files',\n",
       " 'invitees.docx',\n",
       " 'IRJET-V5I7203.pdf',\n",
       " 'KANO STATE SCHOLARSHIP APPLICATION FORM.pdf',\n",
       " 'KANO STATE SCHOLARSHIP APPLICATION FORM_1.pdf',\n",
       " 'KONAMI',\n",
       " 'lake.jpg',\n",
       " 'Legacies',\n",
       " 'Machine Learning engineer course outline.docx',\n",
       " 'Maher Zain',\n",
       " 'mentor-topics.pdf',\n",
       " 'mentor-topics1.pdf',\n",
       " 'mentor-topics2.pdf',\n",
       " 'mentor-topics3.pdf',\n",
       " 'Minimal Landing Page (Pure HTML & CSS Tutorial).mp4',\n",
       " 'ml projects',\n",
       " 'My Girl',\n",
       " 'My Music',\n",
       " 'My Pictures',\n",
       " 'My Videos',\n",
       " 'neurons.jpg',\n",
       " 'NFS Most Wanted',\n",
       " 'NFSTR',\n",
       " 'Nirsal MSB business plan personal details correction.docx',\n",
       " 'Operators&Operands.ipynb',\n",
       " 'pdf tools',\n",
       " 'Prision Break - Season 2 (95MB EP MKV)',\n",
       " 'Python Scripts',\n",
       " 'resume.pdf',\n",
       " 'Revit Architecture Youtube Video Links.pdf',\n",
       " 'Revit Tutorials',\n",
       " 'Sakina autorization letter.docx',\n",
       " 'Simple Landing Page Using Video As Background (Pure HTML & CSS).mp4',\n",
       " 'Spider Man Into the Spider Verse 2019 1(toxicwap.com).mp4',\n",
       " 'Spider Man Into the Spider Verse 2019 2(toxicwap.com).mp4',\n",
       " 'Spider Man Into the Spider Verse 2019 3(toxicwap.com).mp4',\n",
       " 'Suicide.Squad.Hell.To.Pay.2018.1080p.BluRay.x264-[YTS.AM].mp4',\n",
       " 'The KMPlayer',\n",
       " 'the princess wei young',\n",
       " 'The-Smart-Money-Woman-DigitalEscobar.com_.pdf',\n",
       " 'The.Perfect.Date.2019.1080p.WEBRip.x264-[YTS.AM].mp4',\n",
       " 'theAIGuysCode_tensorflow-yolov4-tflite_ YOLOv4, YOLOv4-tiny, YOLOv3, YOLOv3-tiny Implemented in Tensorflow 2.0, Android. Convert YOLO v4 .weights tensorflow, tensorrt and tflite.html',\n",
       " 'theAIGuysCode_tensorflow-yolov4-tflite_ YOLOv4, YOLOv4-tiny, YOLOv3, YOLOv3-tiny Implemented in Tensorflow 2.0, Android. Convert YOLO v4 .weights tensorflow, tensorrt and tflite_files',\n",
       " 'traffic data collection.pdf',\n",
       " 'Untitled.ipynb',\n",
       " 'Untitled1.ipynb',\n",
       " 'Untitled2.ipynb',\n",
       " 'Untitled3.ipynb',\n",
       " 'Vikings',\n",
       " 'Wang_ChestX-ray8_Hospital-Scale_Chest_CVPR_2017_paper.pdf',\n",
       " 'Website Template Design Using Html And CSS  Pure CSS Website Design Tutorial for Beginners-1.mp4',\n",
       " 'Website Template Design Using Html And CSS  Pure CSS Website Design Tutorial for Beginners-2.mp4',\n",
       " 'Website Template Design Using Html And CSS  Pure CSS Website Design Tutorial for Beginners.mp4',\n",
       " 'YOLOv4 in the CLOUD Build and Train Custom Object Detector (FREE GPU).mp4',\n",
       " 'YOLOv4 Object Detection with TensorFlow, TensorFlow Lite and TensorRT Models (images, video, webcam).mp4',\n",
       " 'youtube',\n",
       " '~$chine Learning engineer course outline.docx',\n",
       " '~$rsal MSB business plan personal details correction.docx',\n",
       " '~$vitees.docx',\n",
       " '~WRL2846.tmp',\n",
       " '~WRL2957.tmp']"
      ]
     },
     "execution_count": 57,
     "metadata": {},
     "output_type": "execute_result"
    }
   ],
   "source": [
    "os.listdir(os.getcwd())"
   ]
  },
  {
   "cell_type": "code",
   "execution_count": null,
   "metadata": {},
   "outputs": [],
   "source": []
  }
 ],
 "metadata": {
  "kernelspec": {
   "display_name": "Python 3",
   "language": "python",
   "name": "python3"
  },
  "language_info": {
   "codemirror_mode": {
    "name": "ipython",
    "version": 3
   },
   "file_extension": ".py",
   "mimetype": "text/x-python",
   "name": "python",
   "nbconvert_exporter": "python",
   "pygments_lexer": "ipython3",
   "version": "3.7.6"
  }
 },
 "nbformat": 4,
 "nbformat_minor": 4
}
