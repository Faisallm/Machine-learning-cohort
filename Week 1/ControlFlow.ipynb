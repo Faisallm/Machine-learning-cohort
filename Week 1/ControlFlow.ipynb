{
 "cells": [
  {
   "cell_type": "code",
   "execution_count": 1,
   "metadata": {},
   "outputs": [],
   "source": [
    "# In the programs we've seen till now, there has always \n",
    "# been a series of statements faithfully executed by python code\n",
    "# in exact top-down order. To change the flow/order we want to make the program\n",
    "# make some decisions and do things depending on different sitaations."
   ]
  },
  {
   "cell_type": "code",
   "execution_count": 6,
   "metadata": {},
   "outputs": [
    {
     "name": "stdout",
     "output_type": "stream",
     "text": [
      "Enter an integer: 25\n",
      "No, Its a little lower than that\n"
     ]
    }
   ],
   "source": [
    "# The if command is used to check a condition. If the condition is true, \n",
    "# We run a block of statements(called the if-block). else we process another\n",
    "# block of statement (called the else-block). the else clause is optional.\n",
    "\n",
    "number = 23\n",
    "guess = int(input('Enter an integer: '))\n",
    "\n",
    "if guess == number:\n",
    "    print(\"Congratulations, you guessed it\")\n",
    "    print(\"But you still get no prize!\")\n",
    "    \n",
    "elif guess < number:\n",
    "    print(\"No, Its a little higher than that!\")\n",
    "    \n",
    "else:\n",
    "    print(\"No, Its a little lower than that!\")"
   ]
  },
  {
   "cell_type": "code",
   "execution_count": 8,
   "metadata": {},
   "outputs": [
    {
     "name": "stdout",
     "output_type": "stream",
     "text": [
      "This statement will run if the condition is true!\n"
     ]
    }
   ],
   "source": [
    "# how it works\n",
    "if True:\n",
    "    print(\"This statement will run if the condition is true!\")"
   ]
  },
  {
   "cell_type": "code",
   "execution_count": 9,
   "metadata": {},
   "outputs": [],
   "source": [
    "# The while statement allows allows you to execute a \n",
    "# block of statements as long as the condition is true.\n",
    "# The while statement is called a looping statement."
   ]
  },
  {
   "cell_type": "code",
   "execution_count": null,
   "metadata": {},
   "outputs": [],
   "source": [
    "number = 23\n",
    "running = True\n",
    "\n",
    "while running:\n",
    "    guess = int(input('Enter an integer: '))\n",
    "\n",
    "    if guess == number:\n",
    "        print(\"Congratulations, you guessed it\")\n",
    "        print(\"But you still get no prize!\")\n",
    "        running = False\n",
    "\n",
    "    elif guess < number:\n",
    "        print(\"No, Its a little higher than that!\")\n",
    "\n",
    "    else:\n",
    "        print(\"No, Its a little lower than that!\")"
   ]
  },
  {
   "cell_type": "code",
   "execution_count": null,
   "metadata": {},
   "outputs": [],
   "source": [
    "# The for..in statement is another looping statement \n",
    "# which iterates over a sequence of objects.\n",
    "# A sequence is a list of objects(eg, strings, integers, booleans) etc"
   ]
  },
  {
   "cell_type": "code",
   "execution_count": 1,
   "metadata": {},
   "outputs": [
    {
     "name": "stdout",
     "output_type": "stream",
     "text": [
      "1\n",
      "2\n",
      "3\n",
      "4\n"
     ]
    }
   ],
   "source": [
    "for i in range(1, 5):\n",
    "    print(i)"
   ]
  },
  {
   "cell_type": "code",
   "execution_count": 2,
   "metadata": {},
   "outputs": [],
   "source": [
    "# break and continue\n",
    "# break - To exit the loop\n",
    "# continue - To skip the current iteration of the loop"
   ]
  },
  {
   "cell_type": "code",
   "execution_count": 4,
   "metadata": {},
   "outputs": [
    {
     "name": "stdout",
     "output_type": "stream",
     "text": [
      "Enter an integer: 56\n",
      "No, Its a little lower than that!\n",
      "Enter an integer: 23\n",
      "Congratulations, you guessed it\n",
      "But you still get no prize!\n"
     ]
    }
   ],
   "source": [
    "number = 23\n",
    "running = True\n",
    "\n",
    "while running:\n",
    "    guess = int(input('Enter an integer: '))\n",
    "\n",
    "    if guess == number:\n",
    "        print(\"Congratulations, you guessed it\")\n",
    "        print(\"But you still get no prize!\")\n",
    "        break\n",
    "\n",
    "    elif guess < number:\n",
    "        print(\"No, Its a little higher than that!\")\n",
    "        continue\n",
    "\n",
    "    else:\n",
    "        print(\"No, Its a little lower than that!\")\n",
    "        continue"
   ]
  },
  {
   "cell_type": "code",
   "execution_count": 5,
   "metadata": {},
   "outputs": [
    {
     "name": "stdout",
     "output_type": "stream",
     "text": [
      "Enter something:...faisal\n",
      "Length of the string is:  6\n",
      "Enter something:...quit\n",
      "Done\n"
     ]
    }
   ],
   "source": [
    "while True:\n",
    "    s = input(\"Enter something:...\")\n",
    "    if s=='quit':\n",
    "        break\n",
    "    else:\n",
    "        print(\"Length of the string is: \", len(s))\n",
    "        \n",
    "print(\"Done\")"
   ]
  },
  {
   "cell_type": "code",
   "execution_count": null,
   "metadata": {},
   "outputs": [],
   "source": [
    "# Next Stop: Functions"
   ]
  }
 ],
 "metadata": {
  "kernelspec": {
   "display_name": "Python 3",
   "language": "python",
   "name": "python3"
  },
  "language_info": {
   "codemirror_mode": {
    "name": "ipython",
    "version": 3
   },
   "file_extension": ".py",
   "mimetype": "text/x-python",
   "name": "python",
   "nbconvert_exporter": "python",
   "pygments_lexer": "ipython3",
   "version": "3.7.6"
  }
 },
 "nbformat": 4,
 "nbformat_minor": 4
}
